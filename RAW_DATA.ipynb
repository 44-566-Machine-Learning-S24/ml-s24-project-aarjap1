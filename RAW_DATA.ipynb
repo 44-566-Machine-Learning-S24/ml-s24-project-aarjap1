{
 "cells": [
  {
   "cell_type": "markdown",
   "id": "36b35dad-560a-4804-8acd-d4f053b502c6",
   "metadata": {},
   "source": [
    "## [predicting-parental-educational-level-Project](http://localhost:8890/lab/tree/Machine%20Learning%20Repos/ml-s24-project-aarjap1/Final%20Project.ipynb)"
   ]
  },
  {
   "cell_type": "markdown",
   "id": "31258b31-222a-4b9b-8ca7-d8eda82e58f7",
   "metadata": {},
   "source": [
    "I acquired my dataset from kaggle. I went through multiple datasets but choose to go with this one because I thought it would interesting and fun to predict Parental Level of education by looking through features such as Student's grade in different exams, their gender and race as well. The name of my dataset is \"Student Performance In Exams\". The link to the dataset can be found below.\n",
    "\n",
    "Kaggle Link : https://www.kaggle.com/code/spscientist/student-performance-in-exams/input\n",
    "\n",
    "[Click to Download The DataSet](http://localhost:8890/files/Machine%20Learning%20Repos/ml-s24-project-aarjap1/StudentsPerformance.csv?_xsrf=2%7C26852a63%7Cc5f06010968acda4cc4f4638ad709b2c%7C1712674144)"
   ]
  },
  {
   "cell_type": "code",
   "execution_count": null,
   "id": "406001dd-076e-49fa-b02c-de7f1469e0a1",
   "metadata": {},
   "outputs": [],
   "source": []
  }
 ],
 "metadata": {
  "kernelspec": {
   "display_name": "Python 3 (ipykernel)",
   "language": "python",
   "name": "python3"
  },
  "language_info": {
   "codemirror_mode": {
    "name": "ipython",
    "version": 3
   },
   "file_extension": ".py",
   "mimetype": "text/x-python",
   "name": "python",
   "nbconvert_exporter": "python",
   "pygments_lexer": "ipython3",
   "version": "3.11.5"
  }
 },
 "nbformat": 4,
 "nbformat_minor": 5
}
