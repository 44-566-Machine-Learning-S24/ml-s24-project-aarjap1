{
 "cells": [
  {
   "cell_type": "code",
   "execution_count": 1,
   "id": "b29267f7-1e9e-463a-8936-e350d70ab718",
   "metadata": {
    "tags": []
   },
   "outputs": [],
   "source": [
    "import numpy as np\n",
    "import pandas as pd\n",
    "\n",
    "data = pd.read_csv('StudentsPerformance.csv')"
   ]
  },
  {
   "cell_type": "code",
   "execution_count": 2,
   "id": "47817675-2ee7-4f64-995e-7e96f6120899",
   "metadata": {
    "tags": []
   },
   "outputs": [],
   "source": [
    "# Mapping for parental education level\n",
    "mapping = {\n",
    "    \"bachelor's degree\": 1,\n",
    "    'some college': 2,\n",
    "    \"master's degree\": 3,\n",
    "    \"associate's degree\": 4\n",
    "}\n",
    "\n",
    "# Encode education level\n",
    "data['encoded_education_level'] = data['parental level of education'].map(mapping)"
   ]
  },
  {
   "cell_type": "markdown",
   "id": "03520c75-e7c6-496b-86ad-3a25e87c44d9",
   "metadata": {},
   "source": [
    "Since the feature parental level of education is a string type and we cannot map a string type we want to convert it into a numeric type for which we are using mapping. I have mapped the variables inside parental level of education into encoded_education_level "
   ]
  },
  {
   "cell_type": "code",
   "execution_count": 3,
   "id": "dc33ab08-c7ec-458f-9d79-185c1056ddd0",
   "metadata": {
    "tags": []
   },
   "outputs": [],
   "source": [
    "# Dropping NaN values\n",
    "data = data.dropna()"
   ]
  },
  {
   "cell_type": "code",
   "execution_count": 4,
   "id": "2d51a76e-7516-4ac2-ab4e-e66c22f2c1d9",
   "metadata": {
    "tags": []
   },
   "outputs": [],
   "source": [
    "from sklearn.model_selection import train_test_split\n",
    "\n",
    "# Splitting data into train and test sets\n",
    "train_set, test_set = train_test_split(data, test_size=0.2, random_state=42)"
   ]
  },
  {
   "cell_type": "code",
   "execution_count": 5,
   "id": "738f2d04-840f-41dd-83f3-9fec2fdca0d2",
   "metadata": {
    "tags": []
   },
   "outputs": [],
   "source": [
    "# Prepare training data\n",
    "X_train = train_set[[\"math score\", \"reading score\", \"writing score\"]]\n",
    "y_train = train_set[\"encoded_education_level\"]\n",
    "\n",
    "# Evaluate the model\n",
    "X_test = test_set[[\"math score\", \"reading score\", \"writing score\"]]\n",
    "y_test = test_set[\"encoded_education_level\"]"
   ]
  },
  {
   "cell_type": "code",
   "execution_count": 6,
   "id": "b8e5fd0e-9e9d-4c27-985a-d0ec04da4996",
   "metadata": {
    "tags": []
   },
   "outputs": [],
   "source": [
    "from sklearn.linear_model import LinearRegression\n",
    "from sklearn.metrics import mean_squared_error, r2_score"
   ]
  },
  {
   "cell_type": "code",
   "execution_count": 7,
   "id": "3eeb5cd3-729f-4bc0-a92f-ef1b907e8c36",
   "metadata": {
    "tags": []
   },
   "outputs": [],
   "source": [
    "# Defines the regression model\n",
    "model = LinearRegression()"
   ]
  },
  {
   "cell_type": "code",
   "execution_count": 8,
   "id": "067e63c4-523f-4d5a-9fe2-159a78704b6a",
   "metadata": {
    "tags": []
   },
   "outputs": [
    {
     "name": "stdout",
     "output_type": "stream",
     "text": [
      "0.009481292401256503\n"
     ]
    }
   ],
   "source": [
    "# Build training model\n",
    "model.fit(X_train, y_train)\n",
    "r2 = model.score(X_train, y_train)\n",
    "print(r2)"
   ]
  },
  {
   "cell_type": "markdown",
   "id": "d9839289-f5d2-4146-b2d2-4745ee3678ce",
   "metadata": {},
   "source": [
    "A R2 score of 0.009481292401256503 could indicate model is not effectively explaining the variability in the data and is likely not a good fit for the given dataset. This means model is not capturing the true relationship between the independent and dependent variables."
   ]
  },
  {
   "cell_type": "code",
   "execution_count": 9,
   "id": "febea020-9f5a-45c5-9043-961fba32ecdb",
   "metadata": {
    "tags": []
   },
   "outputs": [],
   "source": [
    "# Evaluate the model with the test data find the MSE and R2\n",
    "y_pred = model.predict(X_test)\n",
    "\n",
    "r2 = model.score(X_test, y_test)\n",
    "rms_error = mean_squared_error(y_test, y_pred)"
   ]
  },
  {
   "cell_type": "markdown",
   "id": "0ae77f3d-4b0e-4d9d-9550-ac0fb0b33c57",
   "metadata": {},
   "source": [
    "## Prediction results"
   ]
  },
  {
   "cell_type": "code",
   "execution_count": 10,
   "id": "95c3206f-b791-4fb8-946b-fd8179253884",
   "metadata": {
    "tags": []
   },
   "outputs": [
    {
     "name": "stdout",
     "output_type": "stream",
     "text": [
      "R2 Score: -0.008127987869033682\n",
      "Root Mean Squared Error(MSE): 1.410024259000951\n"
     ]
    }
   ],
   "source": [
    "print(\"R2 Score:\", r2)\n",
    "print(\"Root Mean Squared Error(MSE):\", rms_error)"
   ]
  },
  {
   "cell_type": "markdown",
   "id": "14edcbfc-1b00-48c4-94c9-64ea95b0bf9a",
   "metadata": {
    "tags": []
   },
   "source": [
    "An R2 score of -0.008127987869033682 indicates that the linear regression model performs worse than a model that simply predicts the mean of the dependent variable.\n",
    "Where as an RMSE of 1.410024259000951 suggests that, on average, the model's predictions are off by approximately 1.41 units of the dependent variable\n",
    "\n",
    "Overall this means that the linear regression is not effectively capturing the relationship between math,reading,writing score and parental level of education"
   ]
  },
  {
   "cell_type": "code",
   "execution_count": 11,
   "id": "d4b6dd5e-b2f6-4038-9a91-38337ac96522",
   "metadata": {
    "tags": []
   },
   "outputs": [],
   "source": [
    "working_set = train_set.copy()"
   ]
  },
  {
   "cell_type": "code",
   "execution_count": 12,
   "id": "f2cf2156-eee0-448a-96c5-640fd06fe239",
   "metadata": {
    "tags": []
   },
   "outputs": [
    {
     "data": {
      "image/png": "[encoded data removed]",
      "text/plain": [
       "<Figure size 640x480 with 1 Axes>"
      ]
     },
     "metadata": {},
     "output_type": "display_data"
    }
   ],
   "source": [
    "import matplotlib.pyplot as plt\n",
    "plt.scatter(working_set[\"math score\"], working_set[\"encoded_education_level\"])\n",
    "plt.xlabel(\"Score\")\n",
    "plt.ylabel(\"parental education level\");\n",
    "plt.show()"
   ]
  },
  {
   "cell_type": "markdown",
   "id": "2a360960-06d5-47b9-b49c-965f9f610ed8",
   "metadata": {
    "tags": []
   },
   "source": [
    "On the above graph y axis 1 represents bachelors degree, 2 represents some college, 3 represents master's degree, and 4 represents associate's degree and x axis the math score"
   ]
  },
  {
   "cell_type": "markdown",
   "id": "5940b299-f5cb-4140-85c9-aed4f2ac1c28",
   "metadata": {},
   "source": [
    "Since i am using multiple features and this looks like a classification problem I can't do the linear regression model on this. I would still want to combine 3 features and try to do the linear regression model which I am doing below on second set.\n",
    "Also this graph shows relation of just the writing score and parental education level. I have done a graph on total score and parental education level on the second set. \n"
   ]
  },
  {
   "cell_type": "markdown",
   "id": "0bfd4d7f-f926-4203-bad9-139238c21852",
   "metadata": {
    "tags": []
   },
   "source": [
    "### Now I would like to make a new feature Total_Score which will be the sum of the math, reading and writing score "
   ]
  },
  {
   "cell_type": "code",
   "execution_count": 13,
   "id": "bd04f275-b578-4f53-b396-892e45936d61",
   "metadata": {
    "tags": []
   },
   "outputs": [],
   "source": [
    "second_set = data.copy()"
   ]
  },
  {
   "cell_type": "code",
   "execution_count": 14,
   "id": "d78cec09-7303-48d4-859a-e5788302b6d1",
   "metadata": {
    "tags": []
   },
   "outputs": [],
   "source": [
    "second_set[\"Total_Score\"] = second_set[\"math score\"] + second_set[\"reading score\"] + second_set[\"writing score\"]"
   ]
  },
  {
   "cell_type": "code",
   "execution_count": 15,
   "id": "5fa19b67-1ec4-44d3-9da0-15199b82641d",
   "metadata": {
    "tags": []
   },
   "outputs": [],
   "source": [
    "from sklearn.model_selection import train_test_split\n",
    "\n",
    "# Splitting data into train and test sets\n",
    "train_set, test_set = train_test_split(second_set, test_size=0.2, random_state=42)"
   ]
  },
  {
   "cell_type": "code",
   "execution_count": 16,
   "id": "86f16410-b6a3-4b9c-a000-1e5af8969e58",
   "metadata": {
    "tags": []
   },
   "outputs": [],
   "source": [
    "# Prepare training data\n",
    "X_train = train_set[[\"Total_Score\"]]\n",
    "y_train = train_set[\"encoded_education_level\"]\n",
    "\n",
    "# Evaluate the model\n",
    "X_test = test_set[[\"Total_Score\"]]\n",
    "y_test = test_set[\"encoded_education_level\"]"
   ]
  },
  {
   "cell_type": "code",
   "execution_count": 17,
   "id": "9e5e4671-df8a-49f8-96da-1f750117c0df",
   "metadata": {},
   "outputs": [
    {
     "name": "stdout",
     "output_type": "stream",
     "text": [
      "0.00030304875264952624\n"
     ]
    }
   ],
   "source": [
    "# Build training model\n",
    "model.fit(X_train, y_train)\n",
    "r2 = model.score(X_train, y_train)\n",
    "print(r2)"
   ]
  },
  {
   "cell_type": "markdown",
   "id": "d69216d1-976f-467e-8758-be82ede0c50c",
   "metadata": {
    "tags": []
   },
   "source": [
    "A R2 score of 0.0003030487 could indicate model is not effectively explaining the variability in the data and is likely not a good fit for the given dataset. This means model is not capturing the true relationship between the total score and parental education level."
   ]
  },
  {
   "cell_type": "code",
   "execution_count": 18,
   "id": "0669218c-e270-4f75-9c07-d365cbd206bc",
   "metadata": {
    "tags": []
   },
   "outputs": [],
   "source": [
    "# Evaluate the model with the test data find the MSE and R2\n",
    "y_pred = model.predict(X_test)\n",
    "\n",
    "r2 = model.score(X_test, y_test)\n",
    "rms_error = mean_squared_error(y_test, y_pred)"
   ]
  },
  {
   "cell_type": "code",
   "execution_count": 19,
   "id": "5c2ce44a-8b82-458c-8a1d-47ed65b007c5",
   "metadata": {
    "tags": []
   },
   "outputs": [
    {
     "name": "stdout",
     "output_type": "stream",
     "text": [
      "R2 Score: -0.011741957115891655\n",
      "Root Mean Squared Error(MSE): 1.4150789587718846\n"
     ]
    }
   ],
   "source": [
    "print(\"R2 Score:\", r2)\n",
    "print(\"Root Mean Squared Error(MSE):\", rms_error)"
   ]
  },
  {
   "cell_type": "markdown",
   "id": "580c493d-eead-4241-9758-bc95a4d805da",
   "metadata": {
    "tags": []
   },
   "source": [
    "Like above again we got similar values for R2 score and Root Mean Squared Error which overall this means that the linear regression is not effectively capturing the relationship between math,reading,writing score and parental level of education"
   ]
  },
  {
   "cell_type": "code",
   "execution_count": 20,
   "id": "3222b292-1968-481c-bbfa-876589f7257d",
   "metadata": {
    "tags": []
   },
   "outputs": [],
   "source": [
    "working_set = train_set.copy()"
   ]
  },
  {
   "cell_type": "code",
   "execution_count": 21,
   "id": "62fa8c57-4495-4d77-9d9e-ee8c00bdb4d4",
   "metadata": {
    "tags": []
   },
   "outputs": [
    {
     "data": {
      "image/png": "[encoded data removed]",
      "text/plain": [
       "<Figure size 640x480 with 1 Axes>"
      ]
     },
     "metadata": {},
     "output_type": "display_data"
    }
   ],
   "source": [
    "import matplotlib.pyplot as plt\n",
    "plt.scatter(working_set[\"Total_Score\"], working_set[\"encoded_education_level\"])\n",
    "plt.xlabel(\"Total Score\")\n",
    "plt.ylabel(\"parental education level\");\n",
    "plt.show()"
   ]
  },
  {
   "cell_type": "markdown",
   "id": "855ece3c-8fd5-4550-9eb2-e1cd6d89c1a4",
   "metadata": {
    "tags": []
   },
   "source": [
    "As i said this looks like a classification model and not a linear regression problem. On the above graph y axis 1 represents bachelors degree, 2 represents some college, 3 represents master's degree, and 4 represents associate's degree and x axis the total score(math,writing and reading score)"
   ]
  },
  {
   "cell_type": "code",
   "execution_count": 22,
   "id": "bbea8607-70a3-4ea2-8452-c29fa9957a08",
   "metadata": {
    "tags": []
   },
   "outputs": [],
   "source": [
    "from sklearn.linear_model import ElasticNet\n",
    "reg = ElasticNet(alpha = 1.0, l1_ratio=0.5)"
   ]
  },
  {
   "cell_type": "code",
   "execution_count": 23,
   "id": "1277ac3b-e344-48ea-b9de-ff70368cb845",
   "metadata": {
    "tags": []
   },
   "outputs": [
    {
     "data": {
      "text/html": [
       "<style>#sk-container-id-1 {color: black;}#sk-container-id-1 pre{padding: 0;}#sk-container-id-1 div.sk-toggleable {background-color: white;}#sk-container-id-1 label.sk-toggleable__label {cursor: pointer;display: block;width: 100%;margin-bottom: 0;padding: 0.3em;box-sizing: border-box;text-align: center;}#sk-container-id-1 label.sk-toggleable__label-arrow:before {content: \"▸\";float: left;margin-right: 0.25em;color: #696969;}#sk-container-id-1 label.sk-toggleable__label-arrow:hover:before {color: black;}#sk-container-id-1 div.sk-estimator:hover label.sk-toggleable__label-arrow:before {color: black;}#sk-container-id-1 div.sk-toggleable__content {max-height: 0;max-width: 0;overflow: hidden;text-align: left;background-color: #f0f8ff;}#sk-container-id-1 div.sk-toggleable__content pre {margin: 0.2em;color: black;border-radius: 0.25em;background-color: #f0f8ff;}#sk-container-id-1 input.sk-toggleable__control:checked~div.sk-toggleable__content {max-height: 200px;max-width: 100%;overflow: auto;}#sk-container-id-1 input.sk-toggleable__control:checked~label.sk-toggleable__label-arrow:before {content: \"▾\";}#sk-container-id-1 div.sk-estimator input.sk-toggleable__control:checked~label.sk-toggleable__label {background-color: #d4ebff;}#sk-container-id-1 div.sk-label input.sk-toggleable__control:checked~label.sk-toggleable__label {background-color: #d4ebff;}#sk-container-id-1 input.sk-hidden--visually {border: 0;clip: rect(1px 1px 1px 1px);clip: rect(1px, 1px, 1px, 1px);height: 1px;margin: -1px;overflow: hidden;padding: 0;position: absolute;width: 1px;}#sk-container-id-1 div.sk-estimator {font-family: monospace;background-color: #f0f8ff;border: 1px dotted black;border-radius: 0.25em;box-sizing: border-box;margin-bottom: 0.5em;}#sk-container-id-1 div.sk-estimator:hover {background-color: #d4ebff;}#sk-container-id-1 div.sk-parallel-item::after {content: \"\";width: 100%;border-bottom: 1px solid gray;flex-grow: 1;}#sk-container-id-1 div.sk-label:hover label.sk-toggleable__label {background-color: #d4ebff;}#sk-container-id-1 div.sk-serial::before {content: \"\";position: absolute;border-left: 1px solid gray;box-sizing: border-box;top: 0;bottom: 0;left: 50%;z-index: 0;}#sk-container-id-1 div.sk-serial {display: flex;flex-direction: column;align-items: center;background-color: white;padding-right: 0.2em;padding-left: 0.2em;position: relative;}#sk-container-id-1 div.sk-item {position: relative;z-index: 1;}#sk-container-id-1 div.sk-parallel {display: flex;align-items: stretch;justify-content: center;background-color: white;position: relative;}#sk-container-id-1 div.sk-item::before, #sk-container-id-1 div.sk-parallel-item::before {content: \"\";position: absolute;border-left: 1px solid gray;box-sizing: border-box;top: 0;bottom: 0;left: 50%;z-index: -1;}#sk-container-id-1 div.sk-parallel-item {display: flex;flex-direction: column;z-index: 1;position: relative;background-color: white;}#sk-container-id-1 div.sk-parallel-item:first-child::after {align-self: flex-end;width: 50%;}#sk-container-id-1 div.sk-parallel-item:last-child::after {align-self: flex-start;width: 50%;}#sk-container-id-1 div.sk-parallel-item:only-child::after {width: 0;}#sk-container-id-1 div.sk-dashed-wrapped {border: 1px dashed gray;margin: 0 0.4em 0.5em 0.4em;box-sizing: border-box;padding-bottom: 0.4em;background-color: white;}#sk-container-id-1 div.sk-label label {font-family: monospace;font-weight: bold;display: inline-block;line-height: 1.2em;}#sk-container-id-1 div.sk-label-container {text-align: center;}#sk-container-id-1 div.sk-container {/* jupyter's `normalize.less` sets `[hidden] { display: none; }` but bootstrap.min.css set `[hidden] { display: none !important; }` so we also need the `!important` here to be able to override the default hidden behavior on the sphinx rendered scikit-learn.org. See: https://github.com/scikit-learn/scikit-learn/issues/21755 */display: inline-block !important;position: relative;}#sk-container-id-1 div.sk-text-repr-fallback {display: none;}</style><div id=\"sk-container-id-1\" class=\"sk-top-container\"><div class=\"sk-text-repr-fallback\"><pre>ElasticNet()</pre><b>In a Jupyter environment, please rerun this cell to show the HTML representation or trust the notebook. <br />On GitHub, the HTML representation is unable to render, please try loading this page with nbviewer.org.</b></div><div class=\"sk-container\" hidden><div class=\"sk-item\"><div class=\"sk-estimator sk-toggleable\"><input class=\"sk-toggleable__control sk-hidden--visually\" id=\"sk-estimator-id-1\" type=\"checkbox\" checked><label for=\"sk-estimator-id-1\" class=\"sk-toggleable__label sk-toggleable__label-arrow\">ElasticNet</label><div class=\"sk-toggleable__content\"><pre>ElasticNet()</pre></div></div></div></div></div>"
      ],
      "text/plain": [
       "ElasticNet()"
      ]
     },
     "execution_count": 23,
     "metadata": {},
     "output_type": "execute_result"
    }
   ],
   "source": [
    "X = working_set[[\"Total_Score\"]]\n",
    "Y = working_set[\"encoded_education_level\"]\n",
    "reg.fit(X, Y)"
   ]
  },
  {
   "cell_type": "code",
   "execution_count": 24,
   "id": "6af696d1-5ee8-4db2-a95f-54e5ff21273a",
   "metadata": {
    "tags": []
   },
   "outputs": [
    {
     "name": "stdout",
     "output_type": "stream",
     "text": [
      "The bias is  2.558442246234271\n",
      "The feature coefficients are  [0.00018826]\n"
     ]
    }
   ],
   "source": [
    "print(\"The bias is \" , reg.intercept_)\n",
    "print(\"The feature coefficients are \", reg.coef_)"
   ]
  },
  {
   "cell_type": "code",
   "execution_count": 25,
   "id": "e95530fe-7410-4a2d-8dd3-3fbe15b6c66d",
   "metadata": {
    "tags": []
   },
   "outputs": [
    {
     "name": "stdout",
     "output_type": "stream",
     "text": [
      "2.558442246234271 0.0001882555098117748\n"
     ]
    },
    {
     "data": {
      "image/png": "[encoded data removed]",
      "text/plain": [
       "<Figure size 640x480 with 1 Axes>"
      ]
     },
     "metadata": {},
     "output_type": "display_data"
    }
   ],
   "source": [
    "theta0 = reg.intercept_\n",
    "theta1 = reg.coef_[0]\n",
    "print(theta0, theta1)\n",
    "def the_line(h, bias, coef):\n",
    "    return bias + coef * h\n",
    "\n",
    "min_score = working_set[\"Total_Score\"].min()\n",
    "min_education = the_line(min_score, theta0, theta1)\n",
    "max_score = working_set[\"encoded_education_level\"].max()\n",
    "max_education = the_line(max_score, theta0, theta1)\n",
    "line_x = [min_score, max_score]\n",
    "line_y = [min_education, max_education]\n",
    "\n",
    "\n",
    "import matplotlib.pyplot as plt\n",
    "plt.scatter(working_set[\"Total_Score\"], working_set[\"encoded_education_level\"])\n",
    "plt.xlabel(\"Total Score\")\n",
    "plt.ylabel(\"Parental Education Level\")\n",
    "plt.plot(line_x, line_y)\n",
    "plt.show()"
   ]
  },
  {
   "cell_type": "markdown",
   "id": "4dc5a8da-fc75-4953-b24c-754178c2bdf0",
   "metadata": {},
   "source": [
    "Looking at the graph this again does not look like a linear regression problem but on the above graph like other graph on the above graph y axis 1 represents bachelors degree, 2 represents some college, 3 represents master's degree, and 4 represents associate's degree and x axis the total score(math,writing and reading score)."
   ]
  }
 ],
 "metadata": {
  "kernelspec": {
   "display_name": "Python 3 (ipykernel)",
   "language": "python",
   "name": "python3"
  },
  "language_info": {
   "codemirror_mode": {
    "name": "ipython",
    "version": 3
   },
   "file_extension": ".py",
   "mimetype": "text/x-python",
   "name": "python",
   "nbconvert_exporter": "python",
   "pygments_lexer": "ipython3",
   "version": "3.11.5"
  }
 },
 "nbformat": 4,
 "nbformat_minor": 5
}
