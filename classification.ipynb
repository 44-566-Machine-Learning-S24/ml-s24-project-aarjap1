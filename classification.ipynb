{
 "cells": [
  {
   "cell_type": "code",
   "execution_count": null,
   "id": "a169590c-d9cd-4244-afee-2d99720e276b",
   "metadata": {
    "tags": []
   },
   "outputs": [],
   "source": [
    "# 1\n",
    "import pandas as pd\n",
    "data = pd.read_csv('StudentsPerformance.csv')"
   ]
  },
  {
   "cell_type": "code",
   "execution_count": null,
   "id": "fc5a07ea-1073-470a-882a-914b5998f8a3",
   "metadata": {
    "tags": []
   },
   "outputs": [],
   "source": [
    "# Mapping to numerical\n",
    "mapping = {\n",
    "    \"bachelor's degree\": 1,\n",
    "    'some college': 2,\n",
    "    \"master's degree\": 3,\n",
    "    \"associate's degree\": 4\n",
    "}\n",
    "\n",
    "mapping2 = {\n",
    "    \"male\": 1,\n",
    "    \"female\": 2\n",
    "}\n",
    "\n",
    "mapping3 = {\n",
    "    \"group A\": 1,\n",
    "    \"group B\": 2,\n",
    "    \"group C\": 3,\n",
    "    \"group D\": 4,\n",
    "    \"group E\": 5\n",
    "}\n",
    "\n",
    "# Encoding\n",
    "data['encoded_education_level'] = data['parental level of education'].map(mapping)\n",
    "data['encoded_gender'] = data['gender'].map(mapping2)\n",
    "data['encoded_race'] = data['race/ethnicity'].map(mapping3)"
   ]
  },
  {
   "cell_type": "code",
   "execution_count": null,
   "id": "aca32aec-0a14-4ab8-a0ac-8ad92f66791d",
   "metadata": {
    "tags": []
   },
   "outputs": [],
   "source": [
    "#creating new feature total_score\n",
    "data[\"Total_Score\"] = data[\"math score\"] + data[\"reading score\"] + data[\"writing score\"]"
   ]
  },
  {
   "cell_type": "code",
   "execution_count": null,
   "id": "bcd369a0-3eea-4d81-a290-c643f48e5663",
   "metadata": {
    "tags": []
   },
   "outputs": [],
   "source": [
    "# Dropping NaN values\n",
    "data = data.dropna()"
   ]
  },
  {
   "cell_type": "code",
   "execution_count": null,
   "id": "beafcd6b-5e82-47c7-953a-e083f691d1d7",
   "metadata": {
    "tags": []
   },
   "outputs": [],
   "source": []
  },
  {
   "cell_type": "code",
   "execution_count": null,
   "id": "5bdd8073-d1a7-4af5-a46e-340ffbae6a50",
   "metadata": {
    "tags": []
   },
   "outputs": [],
   "source": []
  },
  {
   "cell_type": "markdown",
   "id": "c8e49f5a-69fa-4669-ad57-4f0e339ce3e9",
   "metadata": {},
   "source": [
    "Discussion:\n",
    "\n",
    "I picked for X (independent variable) \"encoded_education_level\", \"encoded_gender\" and \"encoded_race\" and for y (dependent variable/ target feature) \"Total Score\" which is the sum of the math score, reading score and writing score because for a student's total score I thought their parents education level, gender and race might play a factor in determining the student's total score."
   ]
  },
  {
   "cell_type": "code",
   "execution_count": null,
   "id": "4f5efaab-cbf1-4ede-8477-e0e84fc9a4d7",
   "metadata": {
    "tags": []
   },
   "outputs": [],
   "source": []
  },
  {
   "cell_type": "code",
   "execution_count": null,
   "id": "c20f2327-3e4e-457b-a676-03384d2d2abb",
   "metadata": {
    "tags": []
   },
   "outputs": [],
   "source": []
  },
  {
   "cell_type": "markdown",
   "id": "c68e433d-74d8-48d8-847c-13a687f914f4",
   "metadata": {},
   "source": [
    "Discussion for training set:\n",
    "\n",
    "R2 score of 0.128 is quite low, suggesting that the decision tree classifier model might not be capturing the underlying relationships in the data very well."
   ]
  },
  {
   "cell_type": "code",
   "execution_count": null,
   "id": "da74b9fe-ef5c-4458-ad91-65b0cbf3f5bf",
   "metadata": {
    "tags": []
   },
   "outputs": [],
   "source": []
  },
  {
   "cell_type": "markdown",
   "id": "0d77bbe7-c0ff-4a56-a0c7-deb15e0a850c",
   "metadata": {},
   "source": [
    "Discussion for testing set: \n",
    "   \n",
    "R2 score of 0.0 implies that the model is not able to capture any patterns or relationships in the data to make accurate predictions.\n",
    "Whereasroot mean squared error (RMSE) of approximately 4434.32 indicates the average deviation of predicted total scores from the actual total scores in the test set.\n",
    "\n",
    "Overall, these results indicate that the decision tree classifier is not performing well on the test set. The R-squared of 0.0 and the high RMSE suggest that the model is not capturing meaningful relationships between the features and the target variable and is making inaccurate predictions."
   ]
  },
  {
   "cell_type": "code",
   "execution_count": null,
   "id": "eb273cc7-d041-4dd4-a539-0e260a0f39dc",
   "metadata": {},
   "outputs": [],
   "source": []
  },
  {
   "cell_type": "code",
   "execution_count": null,
   "id": "368ebe71-ba22-4b83-9c5a-e06c2ed4875b",
   "metadata": {
    "tags": []
   },
   "outputs": [],
   "source": []
  },
  {
   "cell_type": "code",
   "execution_count": null,
   "id": "e4faea8a-1235-4846-83ce-0fbfdec7adea",
   "metadata": {
    "tags": []
   },
   "outputs": [],
   "source": []
  },
  {
   "cell_type": "code",
   "execution_count": null,
   "id": "8564c08b-f39c-4e92-bb83-54b70c105b78",
   "metadata": {
    "tags": []
   },
   "outputs": [],
   "source": []
  }
 ],
 "metadata": {
  "kernelspec": {
   "display_name": "Python 3 (ipykernel)",
   "language": "python",
   "name": "python3"
  },
  "language_info": {
   "codemirror_mode": {
    "name": "ipython",
    "version": 3
   },
   "file_extension": ".py",
   "mimetype": "text/x-python",
   "name": "python",
   "nbconvert_exporter": "python",
   "pygments_lexer": "ipython3",
   "version": "3.11.5"
  }
 },
 "nbformat": 4,
 "nbformat_minor": 5
}
