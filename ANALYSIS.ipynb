{
 "cells": [
  {
   "cell_type": "markdown",
   "id": "f0267805-d447-4a1a-84fa-ed17bc7c69c4",
   "metadata": {},
   "source": [
    "## [predicting-parental-educational-level-Project](https://github.com/44-566-Machine-Learning-S24/ml-s24-project-aarjap1/blob/ceeb9e471dc63a9a87fb6595963f56f827501536/Final%20Project.ipynb)"
   ]
  },
  {
   "cell_type": "markdown",
   "id": "04a98130-4dcb-4ac8-92f9-761dd1a6ef36",
   "metadata": {},
   "source": [
    "### ANALYSIS and Technical Results"
   ]
  },
  {
   "cell_type": "markdown",
   "id": "e6abc7d3-70dc-4649-8305-3b05b05f6858",
   "metadata": {},
   "source": [
    "I used the models listed below for my analysis"
   ]
  },
  {
   "cell_type": "markdown",
   "id": "1c6dcb82-300c-4ce4-a430-88d781840663",
   "metadata": {},
   "source": [
    "1. Linear Regression"
   ]
  },
  {
   "cell_type": "markdown",
   "id": "899ce0fd-a2ab-4e40-a4b5-c03be753d042",
   "metadata": {},
   "source": [
    "2. Decision Trees"
   ]
  },
  {
   "cell_type": "markdown",
   "id": "26b10294-de88-4898-916f-709cf3a4aaa9",
   "metadata": {},
   "source": [
    "3. SVM"
   ]
  },
  {
   "cell_type": "markdown",
   "id": "635b27d4-dee9-41fd-afe5-15114407fbd2",
   "metadata": {
    "tags": []
   },
   "source": [
    "4. Random Forest"
   ]
  },
  {
   "cell_type": "markdown",
   "id": "2ad461b1-60a3-40eb-802e-216adf8cc2ec",
   "metadata": {},
   "source": []
  }
 ],
 "metadata": {
  "kernelspec": {
   "display_name": "Python 3 (ipykernel)",
   "language": "python",
   "name": "python3"
  },
  "language_info": {
   "codemirror_mode": {
    "name": "ipython",
    "version": 3
   },
   "file_extension": ".py",
   "mimetype": "text/x-python",
   "name": "python",
   "nbconvert_exporter": "python",
   "pygments_lexer": "ipython3",
   "version": "3.11.5"
  }
 },
 "nbformat": 4,
 "nbformat_minor": 5
}
