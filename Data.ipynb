{
 "cells": [
  {
   "cell_type": "markdown",
   "id": "27e6c088-9f79-4015-83e9-4ad411ffaf97",
   "metadata": {},
   "source": [
    "## [predicting-parental-educational-level-Project](https://github.com/44-566-Machine-Learning-S24/ml-s24-project-aarjap1/blob/ceeb9e471dc63a9a87fb6595963f56f827501536/Final%20Project.ipynb)"
   ]
  },
  {
   "cell_type": "markdown",
   "id": "ab0f7c8e-09d4-49ea-8d9e-765af33a32c2",
   "metadata": {},
   "source": [
    "The data analysis has been performed in 4 stages and these analysis are visible on the following jupyter notebooks.\n",
    "\n",
    "- Notebooks with visualizations\n",
    "    - [Linear Regression(Right click and open link in new tab to download)](http://localhost:8890/files/Machine%20Learning%20Repos/ml-s24-project-aarjap1/initial_exploration.ipynb?_xsrf=2%7C26852a63%7Cc5f06010968acda4cc4f4638ad709b2c%7C1712674144)\n",
    "    - [Classification(Right click and open link in new tab to download)](http://localhost:8890/files/Machine%20Learning%20Repos/ml-s24-project-aarjap1/classification.ipynb?_xsrf=2%7C26852a63%7Cc5f06010968acda4cc4f4638ad709b2c%7C1712674144)\n",
    "    - [Clustering(Right click and open link in new tab to download)](http://localhost:8890/files/Machine%20Learning%20Repos/ml-s24-project-aarjap1/Clustering.ipynb?_xsrf=2%7C26852a63%7Cc5f06010968acda4cc4f4638ad709b2c%7C1712674144)\n",
    "- Other Notebooks\n",
    "    - [Initial Exploration(Right click and open link in new tab to download)](http://localhost:8890/files/Machine%20Learning%20Repos/ml-s24-project-aarjap1/initial_exploration.ipynb?_xsrf=2%7C26852a63%7Cc5f06010968acda4cc4f4638ad709b2c%7C1712674144)\n",
    "    \n",
    "The exploration began with [Initial Exploration](http://localhost:8890/files/Machine%20Learning%20Repos/ml-s24-project-aarjap1/initial_exploration.ipynb?_xsrf=2%7C26852a63%7Cc5f06010968acda4cc4f4638ad709b2c%7C1712674144) which has been documented in the notebook. The dataset had a total of 8 features with 1000 entries. Out of the 8 feature 6 of them were non-numeric and 3 were numeric. So most of the features required converting to numeric type which included parental level of education, gender and race. The numeric features were the Math, Reading and Writing score which I combined to created a new feature called Total Score. At first I thought it would be interesting to predict the Parental level of education which have 4 categories (Master's degree, Bachelor's degree, Associate's degree and some degree). The features I chose to predict parental level of education was only the Total score at begining but later on in the milestone I decided add other features such as Gender and Race/Ethnicity."
   ]
  }
 ],
 "metadata": {
  "kernelspec": {
   "display_name": "Python 3 (ipykernel)",
   "language": "python",
   "name": "python3"
  },
  "language_info": {
   "codemirror_mode": {
    "name": "ipython",
    "version": 3
   },
   "file_extension": ".py",
   "mimetype": "text/x-python",
   "name": "python",
   "nbconvert_exporter": "python",
   "pygments_lexer": "ipython3",
   "version": "3.11.5"
  }
 },
 "nbformat": 4,
 "nbformat_minor": 5
}
