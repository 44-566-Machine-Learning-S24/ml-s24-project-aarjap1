{
 "cells": [
  {
   "cell_type": "markdown",
   "id": "fc636150-89fd-4f7b-8736-30a44a325223",
   "metadata": {},
   "source": [
    "## [Predicting-parental-educational-level-Project-s24](https://github.com/44-566-Machine-Learning-S24/ml-s24-project-aarjap1/blob/ceeb9e471dc63a9a87fb6595963f56f827501536/Final%20Project.ipynb)"
   ]
  },
  {
   "cell_type": "markdown",
   "id": "75d0d937-a893-4140-beb0-629c072aa5f6",
   "metadata": {},
   "source": [
    "# Narrative Conclusion"
   ]
  },
  {
   "cell_type": "markdown",
   "id": "bc9ea078-845e-44f2-8bca-92b5b34422e7",
   "metadata": {},
   "source": [
    "Overall, my main findings were that the best model was the SVM and Random Forest classifier model for my classification dataset to predict Parental level of education using the three features race, gender and student's score. Initially my project with just two features which was predicting the parental level of education using Total score which i created using combining math, reading and writing score. But as the project went on I introduced two new features race and gender which was not much helpful in predicting Parental level of education.\n",
    "\n",
    "My conclusion to why my dataset did not do extremely well in most of the models is because I feel like the features provided in the dataset is not extremely helpful in predicting parental level of education. Like the features Lunch, Gender and Race in my thinking is not very well co-related to predicting the Parental Level of Education. I mentioned in my analysis if we had features like the Parental's job, Student's previous semester GPA's etc could maybe have provided more insight or be more helpful in predicting Parental Level Of Education which would help the model do better.\n",
    "\n",
    "The metrics and technical explainations are present [here](https://github.com/44-566-Machine-Learning-S24/ml-s24-project-aarjap1/blob/master/ANALYSIS.ipynb)"
   ]
  }
 ],
 "metadata": {
  "kernelspec": {
   "display_name": "Python 3 (ipykernel)",
   "language": "python",
   "name": "python3"
  },
  "language_info": {
   "codemirror_mode": {
    "name": "ipython",
    "version": 3
   },
   "file_extension": ".py",
   "mimetype": "text/x-python",
   "name": "python",
   "nbconvert_exporter": "python",
   "pygments_lexer": "ipython3",
   "version": "3.11.5"
  }
 },
 "nbformat": 4,
 "nbformat_minor": 5
}
