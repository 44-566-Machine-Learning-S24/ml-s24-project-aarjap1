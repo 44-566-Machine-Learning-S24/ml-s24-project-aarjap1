{
 "cells": [
  {
   "cell_type": "code",
   "execution_count": 13,
   "id": "2afc295e-28da-44fe-821c-cdb54776be35",
   "metadata": {
    "tags": []
   },
   "outputs": [
    {
     "name": "stdout",
     "output_type": "stream",
     "text": [
      "Dataset shape: (1000, 8)\n",
      "First few rows of the dataset:\n",
      "    gender race/ethnicity parental level of education         lunch  \\\n",
      "0   female        group B           bachelor's degree      standard   \n",
      "1   female        group C                some college      standard   \n",
      "2   female        group B             master's degree      standard   \n",
      "3     male        group A          associate's degree  free/reduced   \n",
      "4     male        group C                some college      standard   \n",
      "5   female        group B          associate's degree      standard   \n",
      "6   female        group B                some college      standard   \n",
      "7     male        group B                some college  free/reduced   \n",
      "8     male        group D                 high school  free/reduced   \n",
      "9   female        group B                 high school  free/reduced   \n",
      "10    male        group C          associate's degree      standard   \n",
      "11    male        group D          associate's degree      standard   \n",
      "12  female        group B                 high school      standard   \n",
      "13    male        group A                some college      standard   \n",
      "14  female        group A             master's degree      standard   \n",
      "\n",
      "   test preparation course  math score  reading score  writing score  \n",
      "0                     none          72             72             74  \n",
      "1                completed          69             90             88  \n",
      "2                     none          90             95             93  \n",
      "3                     none          47             57             44  \n",
      "4                     none          76             78             75  \n",
      "5                     none          71             83             78  \n",
      "6                completed          88             95             92  \n",
      "7                     none          40             43             39  \n",
      "8                completed          64             64             67  \n",
      "9                     none          38             60             50  \n",
      "10                    none          58             54             52  \n",
      "11                    none          40             52             43  \n",
      "12                    none          65             81             73  \n",
      "13               completed          78             72             70  \n",
      "14                    none          50             53             58  \n",
      "<class 'pandas.core.frame.DataFrame'>\n",
      "RangeIndex: 1000 entries, 0 to 999\n",
      "Data columns (total 8 columns):\n",
      " #   Column                       Non-Null Count  Dtype \n",
      "---  ------                       --------------  ----- \n",
      " 0   gender                       1000 non-null   object\n",
      " 1   race/ethnicity               1000 non-null   object\n",
      " 2   parental level of education  1000 non-null   object\n",
      " 3   lunch                        1000 non-null   object\n",
      " 4   test preparation course      1000 non-null   object\n",
      " 5   math score                   1000 non-null   int64 \n",
      " 6   reading score                1000 non-null   int64 \n",
      " 7   writing score                1000 non-null   int64 \n",
      "dtypes: int64(3), object(5)\n",
      "memory usage: 62.6+ KB\n",
      "None\n"
     ]
    }
   ],
   "source": [
    "# Part A: \n",
    "import pandas as pd\n",
    "from sklearn.model_selection import train_test_split\n",
    "\n",
    "# 1 \n",
    "data = pd.read_csv('StudentsPerformance.csv')\n",
    "\n",
    "print(\"Dataset shape:\", data.shape)\n",
    "print(\"First few rows of the dataset:\")\n",
    "print(data.head(15))\n",
    "print(data.info())\n",
    "\n",
    "## No cleaning of the data was required"
   ]
  },
  {
   "cell_type": "markdown",
   "id": "471ed6af-ce59-47b7-a339-a65f54614a13",
   "metadata": {},
   "source": [
    "#### Did you discover interesting relations?\n",
    "Just looking at the relations from using .head() there was not any interesting relation between the features as they were mostly random.\n",
    "\n",
    "#### What feature/s would you like to be able to predict?\n",
    "I would like to be able to predict the math, reading and writing score from the parental level of education.\n",
    "\n"
   ]
  },
  {
   "cell_type": "code",
   "execution_count": 17,
   "id": "758cddec-1967-4cbb-a204-294b3d2e3ea5",
   "metadata": {
    "tags": []
   },
   "outputs": [],
   "source": [
    "# 5\n",
    "X = data.drop(columns=['math score', 'reading score', 'writing score'])\n",
    "y = data['parental level of education']\n",
    "X_train, X_test, y_train, y_test = train_test_split(X, y, test_size=0.2, random_state=42)"
   ]
  },
  {
   "cell_type": "code",
   "execution_count": null,
   "id": "0661c6d9-5ff2-49da-a7da-a825f6c44292",
   "metadata": {},
   "outputs": [],
   "source": []
  }
 ],
 "metadata": {
  "kernelspec": {
   "display_name": "Python 3 (ipykernel)",
   "language": "python",
   "name": "python3"
  },
  "language_info": {
   "codemirror_mode": {
    "name": "ipython",
    "version": 3
   },
   "file_extension": ".py",
   "mimetype": "text/x-python",
   "name": "python",
   "nbconvert_exporter": "python",
   "pygments_lexer": "ipython3",
   "version": "3.11.5"
  }
 },
 "nbformat": 4,
 "nbformat_minor": 5
}
