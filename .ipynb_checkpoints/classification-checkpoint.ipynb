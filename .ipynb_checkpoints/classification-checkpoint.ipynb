{
 "cells": [
  {
   "cell_type": "code",
   "execution_count": null,
   "id": "a169590c-d9cd-4244-afee-2d99720e276b",
   "metadata": {
    "tags": []
   },
   "outputs": [],
   "source": [
    "# 1\n",
    "import pandas as pd\n",
    "data = pd.read_csv('StudentsPerformance.csv')"
   ]
  },
  {
   "cell_type": "code",
   "execution_count": null,
   "id": "fc5a07ea-1073-470a-882a-914b5998f8a3",
   "metadata": {
    "tags": []
   },
   "outputs": [],
   "source": [
    "# Mapping to numerical\n",
    "mapping = {\n",
    "    \"bachelor's degree\": 1,\n",
    "    'some college': 2,\n",
    "    \"master's degree\": 3,\n",
    "    \"associate's degree\": 4\n",
    "}\n",
    "\n",
    "mapping2 = {\n",
    "    \"male\": 1,\n",
    "    \"female\": 2\n",
    "}\n",
    "\n",
    "mapping3 = {\n",
    "    \"group A\": 1,\n",
    "    \"group B\": 2,\n",
    "    \"group C\": 3,\n",
    "    \"group D\": 4,\n",
    "    \"group E\": 5\n",
    "}\n",
    "\n",
    "# Encoding\n",
    "data['encoded_education_level'] = data['parental level of education'].map(mapping)\n",
    "data['encoded_gender'] = data['gender'].map(mapping2)\n",
    "data['encoded_race'] = data['race/ethnicity'].map(mapping3)"
   ]
  },
  {
   "cell_type": "code",
   "execution_count": null,
   "id": "aca32aec-0a14-4ab8-a0ac-8ad92f66791d",
   "metadata": {
    "tags": []
   },
   "outputs": [],
   "source": [
    "#creating new feature total_score\n",
    "data[\"Total_Score\"] = data[\"math score\"] + data[\"reading score\"] + data[\"writing score\"]"
   ]
  },
  {
   "cell_type": "code",
   "execution_count": null,
   "id": "bcd369a0-3eea-4d81-a290-c643f48e5663",
   "metadata": {
    "tags": []
   },
   "outputs": [],
   "source": [
    "# Dropping NaN values\n",
    "data = data.dropna()"
   ]
  },
  {
   "cell_type": "code",
   "execution_count": null,
   "id": "beafcd6b-5e82-47c7-953a-e083f691d1d7",
   "metadata": {
    "tags": []
   },
   "outputs": [],
   "source": [
    "from sklearn.model_selection import train_test_split\n",
    "\n",
    "# Splitting data into train and test sets\n",
    "train_set, test_set = train_test_split(data, test_size=0.2, random_state=42)"
   ]
  },
  {
   "cell_type": "code",
   "execution_count": null,
   "id": "5bdd8073-d1a7-4af5-a46e-340ffbae6a50",
   "metadata": {
    "tags": []
   },
   "outputs": [],
   "source": [
    "# 2 Prepare training data\n",
    "X_train = train_set[[\"encoded_education_level\", \"encoded_gender\" , \"encoded_race\"]]\n",
    "y_train = train_set[\"Total_Score\"]"
   ]
  },
  {
   "cell_type": "markdown",
   "id": "c8e49f5a-69fa-4669-ad57-4f0e339ce3e9",
   "metadata": {},
   "source": [
    "Discussion:\n",
    "\n",
    "I picked for X (independent variable) \"encoded_education_level\", \"encoded_gender\" and \"encoded_race\" and for y (dependent variable/ target feature) \"Total Score\" which is the sum of the math score, reading score and writing score because for a student's total score I thought their parents education level, gender and race might play a factor in determining the student's total score."
   ]
  },
  {
   "cell_type": "code",
   "execution_count": null,
   "id": "4f5efaab-cbf1-4ede-8477-e0e84fc9a4d7",
   "metadata": {
    "tags": []
   },
   "outputs": [],
   "source": [
    "# 3\n",
    "from sklearn.tree import DecisionTreeClassifier\n",
    "\n",
    "tree_classifier = DecisionTreeClassifier()\n",
    "tree_classifier.fit(X_train,y_train)"
   ]
  },
  {
   "cell_type": "code",
   "execution_count": null,
   "id": "c20f2327-3e4e-457b-a676-03384d2d2abb",
   "metadata": {
    "tags": []
   },
   "outputs": [],
   "source": [
    "# training\n",
    "from sklearn.metrics import mean_squared_error\n",
    "\n",
    "r2 = tree_classifier.score(X_train, y_train)\n",
    "\n",
    "y_pred = tree_classifier.predict(X_train)\n",
    "rms_error = mean_squared_error(y_train, y_pred)\n",
    "\n",
    "print(\"R-squared:\", r2)\n",
    "print(\"Root Mean Squared Error:\", rms_error)"
   ]
  },
  {
   "cell_type": "markdown",
   "id": "c68e433d-74d8-48d8-847c-13a687f914f4",
   "metadata": {},
   "source": [
    "Discussion for training set:\n",
    "\n",
    "R2 score of 0.128 is quite low, suggesting that the decision tree classifier model might not be capturing the underlying relationships in the data very well."
   ]
  },
  {
   "cell_type": "code",
   "execution_count": null,
   "id": "da74b9fe-ef5c-4458-ad91-65b0cbf3f5bf",
   "metadata": {
    "tags": []
   },
   "outputs": [],
   "source": [
    "from sklearn.metrics import mean_squared_error, r2_score\n",
    "\n",
    "X_test = test_set[[\"encoded_education_level\", \"encoded_gender\" , \"encoded_race\"]]\n",
    "y_test = test_set[\"Total_Score\"]\n",
    "\n",
    "y_pred = tree_classifier.predict(X_test)\n",
    "\n",
    "r2 = tree_classifier.score(X_test, y_test)\n",
    "rms_error = mean_squared_error(y_test, y_pred)\n",
    "\n",
    "print(\"R-squared:\", r2)\n",
    "print(\"Root Mean Squared Error:\", rms_error)"
   ]
  },
  {
   "cell_type": "markdown",
   "id": "0d77bbe7-c0ff-4a56-a0c7-deb15e0a850c",
   "metadata": {},
   "source": [
    "Discussion for testing set: \n",
    "   \n",
    "R2 score of 0.0 implies that the model is not able to capture any patterns or relationships in the data to make accurate predictions.\n",
    "Whereasroot mean squared error (RMSE) of approximately 4434.32 indicates the average deviation of predicted total scores from the actual total scores in the test set.\n",
    "\n",
    "Overall, these results indicate that the decision tree classifier is not performing well on the test set. The R-squared of 0.0 and the high RMSE suggest that the model is not capturing meaningful relationships between the features and the target variable and is making inaccurate predictions."
   ]
  },
  {
   "cell_type": "code",
   "execution_count": null,
   "id": "eb273cc7-d041-4dd4-a539-0e260a0f39dc",
   "metadata": {},
   "outputs": [],
   "source": [
    "# creating a graphical representation of the tree \n",
    "from sklearn.tree import export_graphviz\n",
    "\n",
    "export_graphviz(tree_classifier, out_file=\"tree.dot\")"
   ]
  },
  {
   "cell_type": "code",
   "execution_count": null,
   "id": "368ebe71-ba22-4b83-9c5a-e06c2ed4875b",
   "metadata": {
    "tags": []
   },
   "outputs": [],
   "source": [
    "# 5\n",
    "from sklearn.svm import SVC\n",
    "\n",
    "svm_classifier = SVC()\n",
    "svm_classifier.fit(X_train,y_train)"
   ]
  },
  {
   "cell_type": "code",
   "execution_count": null,
   "id": "e4faea8a-1235-4846-83ce-0fbfdec7adea",
   "metadata": {
    "tags": []
   },
   "outputs": [],
   "source": [
    "from sklearn.metrics import mean_squared_error\n",
    " \n",
    "# training set\n",
    "r2 = svm_classifier.score(X_train, y_train)\n",
    "\n",
    "y_pred = svm_classifier.predict(X_train)\n",
    "rms_error = mean_squared_error(y_train, y_pred)\n",
    "\n",
    "print(\"R-squared:\", r2)\n",
    "print(\"Root Mean Squared Error:\", rms_error)"
   ]
  },
  {
   "cell_type": "code",
   "execution_count": null,
   "id": "8564c08b-f39c-4e92-bb83-54b70c105b78",
   "metadata": {
    "tags": []
   },
   "outputs": [],
   "source": [
    "# for testing set\n",
    "r2 = svm_classifier.score(X_test, y_test)\n",
    "\n",
    "y_pred = svm_classifier.predict(X_test)\n",
    "rms_error = mean_squared_error(y_test, y_pred)\n",
    "\n",
    "print(\"R-squared:\", r2)\n",
    "print(\"Root Mean Squared Error:\", rms_error)"
   ]
  }
 ],
 "metadata": {
  "kernelspec": {
   "display_name": "Python 3 (ipykernel)",
   "language": "python",
   "name": "python3"
  },
  "language_info": {
   "codemirror_mode": {
    "name": "ipython",
    "version": 3
   },
   "file_extension": ".py",
   "mimetype": "text/x-python",
   "name": "python",
   "nbconvert_exporter": "python",
   "pygments_lexer": "ipython3",
   "version": "3.11.5"
  }
 },
 "nbformat": 4,
 "nbformat_minor": 5
}
