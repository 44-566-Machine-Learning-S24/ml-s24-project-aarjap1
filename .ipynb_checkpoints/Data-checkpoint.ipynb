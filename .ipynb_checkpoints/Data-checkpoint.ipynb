{
 "cells": [
  {
   "cell_type": "markdown",
   "id": "ab0f7c8e-09d4-49ea-8d9e-765af33a32c2",
   "metadata": {},
   "source": [
    "The data analysis has been performed in 4 stages and these analysis are visible on the following jupyter notebooks\n",
    "\n",
    "- Notebooks with visualizations\n",
    "    - [Linear Regression](http://localhost:8890/files/Machine%20Learning%20Repos/ml-s24-project-aarjap1/initial_exploration.ipynb?_xsrf=2%7C26852a63%7Cc5f06010968acda4cc4f4638ad709b2c%7C1712674144)\n",
    "    - [Classification](http://localhost:8890/files/Machine%20Learning%20Repos/ml-s24-project-aarjap1/classification.ipynb?_xsrf=2%7C26852a63%7Cc5f06010968acda4cc4f4638ad709b2c%7C1712674144)\n",
    "    - [Clustering](http://localhost:8890/files/Machine%20Learning%20Repos/ml-s24-project-aarjap1/Clustering.ipynb?_xsrf=2%7C26852a63%7Cc5f06010968acda4cc4f4638ad709b2c%7C1712674144)\n",
    "- Other Notebooks\n",
    "    - [Initial Exploration](http://localhost:8890/files/Machine%20Learning%20Repos/ml-s24-project-aarjap1/initial_exploration.ipynb?_xsrf=2%7C26852a63%7Cc5f06010968acda4cc4f4638ad709b2c%7C1712674144)\n",
    "    \n",
    "The exploration began with [Initial Exploration](http://localhost:8890/files/Machine%20Learning%20Repos/ml-s24-project-aarjap1/initial_exploration.ipynb?_xsrf=2%7C26852a63%7Cc5f06010968acda4cc4f4638ad709b2c%7C1712674144) which has been documented in the notebook. The dataset had a total of 8 features with 1000 entries. Out of the 8 feature 6 of them were non-numeric and 3 were numeric. So most of the features required converting to numeric type which included parental level of education, gender and race. The numeric features were the Math, Reading and Writing score which I combined to created a new feature called Total Score."
   ]
  },
  {
   "cell_type": "code",
   "execution_count": null,
   "id": "9c6e2ec0-513a-4392-a962-3a9320be61db",
   "metadata": {},
   "outputs": [],
   "source": []
  }
 ],
 "metadata": {
  "kernelspec": {
   "display_name": "Python 3 (ipykernel)",
   "language": "python",
   "name": "python3"
  },
  "language_info": {
   "codemirror_mode": {
    "name": "ipython",
    "version": 3
   },
   "file_extension": ".py",
   "mimetype": "text/x-python",
   "name": "python",
   "nbconvert_exporter": "python",
   "pygments_lexer": "ipython3",
   "version": "3.11.5"
  }
 },
 "nbformat": 4,
 "nbformat_minor": 5
}
