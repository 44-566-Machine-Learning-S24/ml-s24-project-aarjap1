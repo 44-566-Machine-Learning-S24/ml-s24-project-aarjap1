{
 "cells": [
  {
   "cell_type": "markdown",
   "id": "5c65c634-a53e-4afa-9c4f-75c43fdd6703",
   "metadata": {},
   "source": [
    "# Machine-Learning-Project"
   ]
  },
  {
   "cell_type": "markdown",
   "id": "389f7328-48c1-442e-aeb1-ef8aeb9bacaf",
   "metadata": {},
   "source": [
    "## [predicting-parental-educational-level-Project](https://github.com/44-566-Machine-Learning-S24/ml-s24-project-aarjap1/blob/ceeb9e471dc63a9a87fb6595963f56f827501536/Final%20Project.ipynb)"
   ]
  },
  {
   "cell_type": "markdown",
   "id": "9649a885-3113-4e24-be79-d01eae25aa76",
   "metadata": {
    "tags": []
   },
   "source": [
    "Repository of all project documentation and Code"
   ]
  },
  {
   "cell_type": "markdown",
   "id": "bbe3a39c-9f3f-4c7d-b8b9-7e0975557d1b",
   "metadata": {},
   "source": [
    "# Link to 5 markdown documents"
   ]
  },
  {
   "cell_type": "markdown",
   "id": "662fb794-64ca-4053-83bd-169a29ac7e7d",
   "metadata": {},
   "source": [
    "- ### [RAW_DATA](https://github.com/44-566-Machine-Learning-S24/ml-s24-project-aarjap1/blob/39f2438b4a062bcbe2502e434f34c6a672b825cc/RAW_DATA.ipynb)\n",
    "- ### [DATA](https://github.com/44-566-Machine-Learning-S24/ml-s24-project-aarjap1/blob/39f2438b4a062bcbe2502e434f34c6a672b825cc/Data.ipynb)\n",
    "- ### [ANALYSIS](https://github.com/44-566-Machine-Learning-S24/ml-s24-project-aarjap1/blob/39f2438b4a062bcbe2502e434f34c6a672b825cc/ANALYSIS.ipynb)\n",
    "- ### [CONCLUSIONS](https://github.com/44-566-Machine-Learning-S24/ml-s24-project-aarjap1/blob/39f2438b4a062bcbe2502e434f34c6a672b825cc/CONCLUSIONS.ipynb)"
   ]
  },
  {
   "cell_type": "markdown",
   "id": "47cfc69b-064a-46cd-a698-d31d2e02b2f6",
   "metadata": {},
   "source": [
    "### INTRODUCTION\n",
    "\n",
    "My project is a classification problem which predicts the parental level of education on 4 categories Bachelor's degree, Master's degree and associate's degree using features such as race, gender and student's score. My initial goal at the beginning was to predict the Parental level of education using other features present in the dataset which I sticked with throughout the project because I thought the co-relation between the features in the dataset would be interesting."
   ]
  },
  {
   "cell_type": "markdown",
   "id": "3a21814a-2c4f-4942-a9c2-a420f511ffa1",
   "metadata": {},
   "source": [
    "### GOALS\n",
    "\n",
    "My goal in this project is to predict Parental Level Of Education which have 4 categories (Master's degree, Bachelor's degree, Associate's degree and some degree) using the features Math, Reading, Writing Score which combined to total score and also used Gender and Race."
   ]
  },
  {
   "cell_type": "markdown",
   "id": "165f66d4-a6d3-4461-bbe2-955a01cce47e",
   "metadata": {},
   "source": [
    "### Narrative Conclusion\n",
    "\n",
    "After applying various models and analyzing the metrics for this dataset, it can be concluded for this dataset the features total score, race and gender were not able to properly predict Parental Level of education.\n",
    "\n",
    "My conclusion to why my dataset did not do extremely well in most of the models is because I feel like the features provided in the dataset is not extremely helpful in predicting parental level of education. Like the features Lunch, Gender and Race in my thinking is not very well co-related to predicting the Parental Level of Education. I mentioned in my analysis if we had features like the Parental's job, Student's previous semester GPA's etc could maybe have provided more insight or be more helpful in predicting Parental Level Of Education which would help the model do better."
   ]
  }
 ],
 "metadata": {
  "kernelspec": {
   "display_name": "Python 3 (ipykernel)",
   "language": "python",
   "name": "python3"
  },
  "language_info": {
   "codemirror_mode": {
    "name": "ipython",
    "version": 3
   },
   "file_extension": ".py",
   "mimetype": "text/x-python",
   "name": "python",
   "nbconvert_exporter": "python",
   "pygments_lexer": "ipython3",
   "version": "3.11.5"
  }
 },
 "nbformat": 4,
 "nbformat_minor": 5
}
