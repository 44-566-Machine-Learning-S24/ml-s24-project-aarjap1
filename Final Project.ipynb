{
 "cells": [
  {
   "cell_type": "markdown",
   "id": "5c65c634-a53e-4afa-9c4f-75c43fdd6703",
   "metadata": {},
   "source": [
    "# Machine-Learning-Project"
   ]
  },
  {
   "cell_type": "markdown",
   "id": "389f7328-48c1-442e-aeb1-ef8aeb9bacaf",
   "metadata": {},
   "source": [
    "## [predicting-parental-educational-level-Project](http://localhost:8890/lab/tree/Machine%20Learning%20Repos/ml-s24-project-aarjap1/Final%20Project.ipynb)"
   ]
  },
  {
   "cell_type": "markdown",
   "id": "9649a885-3113-4e24-be79-d01eae25aa76",
   "metadata": {
    "tags": []
   },
   "source": [
    "Repository of all project documentation and Code"
   ]
  },
  {
   "cell_type": "markdown",
   "id": "bbe3a39c-9f3f-4c7d-b8b9-7e0975557d1b",
   "metadata": {},
   "source": [
    "# Link to 5 markdown documents"
   ]
  },
  {
   "cell_type": "markdown",
   "id": "662fb794-64ca-4053-83bd-169a29ac7e7d",
   "metadata": {},
   "source": [
    "- ### [RAW_DATA](https://github.com/44-566-Machine-Learning-S24/ml-s24-project-aarjap1/blob/96abeb9b514fac136225974354030b42e844163d/RAW_DATA.ipynb)\n",
    "- ### [DATA](https://github.com/44-566-Machine-Learning-S24/ml-s24-project-aarjap1/blob/96abeb9b514fac136225974354030b42e844163d/Data.ipynb)\n",
    "- ### [ANALYSIS](https://github.com/44-566-Machine-Learning-S24/ml-s24-project-aarjap1/blob/96abeb9b514fac136225974354030b42e844163d/ANALYSIS.ipynb)\n",
    "- ### [CONCLUSIONS](https://github.com/44-566-Machine-Learning-S24/ml-s24-project-aarjap1/blob/96abeb9b514fac136225974354030b42e844163d/CONCLUSIONS.ipynb)"
   ]
  },
  {
   "cell_type": "markdown",
   "id": "47cfc69b-064a-46cd-a698-d31d2e02b2f6",
   "metadata": {},
   "source": [
    "### INTRODUCTION\n",
    "\n",
    "My project is a classification problem which predicts the parental level of education on 4 categories Bachelor's degree, Master's degree and associate's degree using features such as race, gender and student's score. My initial goal at the beginning was to predict the Parental level of education using other features present in the dataset which I sticked with throughout the project because I thought the co-relation between the features in the dataset would be interesting."
   ]
  },
  {
   "cell_type": "markdown",
   "id": "3a21814a-2c4f-4942-a9c2-a420f511ffa1",
   "metadata": {},
   "source": []
  }
 ],
 "metadata": {
  "kernelspec": {
   "display_name": "Python 3 (ipykernel)",
   "language": "python",
   "name": "python3"
  },
  "language_info": {
   "codemirror_mode": {
    "name": "ipython",
    "version": 3
   },
   "file_extension": ".py",
   "mimetype": "text/x-python",
   "name": "python",
   "nbconvert_exporter": "python",
   "pygments_lexer": "ipython3",
   "version": "3.11.5"
  }
 },
 "nbformat": 4,
 "nbformat_minor": 5
}
